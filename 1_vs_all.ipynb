{
 "cells": [
  {
   "cell_type": "code",
   "execution_count": 1,
   "metadata": {},
   "outputs": [
    {
     "data": {
      "text/plain": [
       "<module 'modelos' from 'c:\\\\Users\\\\Bergson\\\\Desktop\\\\UFPB\\\\Quinto Período\\\\Machine Learning\\\\projeto 1\\\\repositorio\\\\Reconhecimento-de-digitos-ML-2023.2\\\\modelos.py'>"
      ]
     },
     "execution_count": 1,
     "metadata": {},
     "output_type": "execute_result"
    }
   ],
   "source": [
    "import pandas as pd\n",
    "import numpy as np\n",
    "import matplotlib.pyplot as plt\n",
    "from sklearn.metrics import confusion_matrix\n",
    "from sklearn.metrics import classification_report\n",
    "\n",
    "import modelos as md\n",
    "from importlib import reload\n",
    "reload(md)"
   ]
  },
  {
   "cell_type": "code",
   "execution_count": 2,
   "metadata": {},
   "outputs": [],
   "source": [
    "dataframe_treino = pd.read_csv('train_reduzido_1_5.csv', sep=';')\n",
    "dataframe_teste = pd.read_csv('test_reduzido_1_5.csv', sep=';')"
   ]
  },
  {
   "cell_type": "markdown",
   "metadata": {},
   "source": [
    "# Tratamento dos dados"
   ]
  },
  {
   "cell_type": "code",
   "execution_count": 4,
   "metadata": {},
   "outputs": [],
   "source": [
    "# Funçao para transformar os dados em uma normal 0,1\n",
    "def padronizar_normal(matriz_X):\n",
    "    for i in range(np.shape(matriz_X)[1]):\n",
    "        matriz_X[:,i] = (matriz_X[:,i] - np.mean(matriz_X[:,i]))/np.std(matriz_X[:,i]) # X menos media/desvio padrao\n",
    "\n",
    "    return matriz_X\n",
    "\n",
    "# Obtendo os valores de treino e teste\n",
    "X = dataframe_treino[['intensidade', 'simetria']].values\n",
    "X_teste = dataframe_teste[['intensidade', 'simetria']].values\n",
    "Y = dataframe_treino['label'].values\n",
    "y_teste = dataframe_teste['label'].values\n",
    "\n",
    "# Transformando os dados e alterando os valores de label para 1 e -1\n",
    "X = padronizar_normal(X)\n",
    "X_teste = padronizar_normal(X_teste)\n",
    "\n",
    "# Adicionando uma coluna de 1s\n",
    "X = np.c_[np.ones(len(X)), X]\n",
    "X_teste = np.c_[np.ones(len(X_teste)), X_teste]"
   ]
  },
  {
   "cell_type": "markdown",
   "metadata": {},
   "source": [
    "# Usando a Regressão Logística"
   ]
  },
  {
   "cell_type": "code",
   "execution_count": null,
   "metadata": {},
   "outputs": [],
   "source": [
    "def classificador_de_todos_os_digitos_treinamento(X, Y, X_teste, y_teste, lista_digitos):\n",
    "    w_matrix = []\n",
    "    y_pred_treino_matrix = []\n",
    "    for i in range(len(lista_digitos)):\n",
    "        Y[Y != lista_digitos[i]] = -1\n",
    "        Y[Y == lista_digitos[i]] = 1\n",
    "        y_teste[y_teste != lista_digitos[i]] = -1\n",
    "        y_teste[y_teste == lista_digitos[i]] = 1\n",
    "        modelo = md.RegressaoLogistica()\n",
    "        w, acuracia, y_pred_treino = modelo.fit(X.T, Y) # Passo o X.transpose() para que a multiplicação de matrizes seja possível\n",
    "        w_matrix.append(w)\n",
    "        y_pred_treino_matrix.append(y_pred_treino)\n",
    "\n",
    "        #Criando a matriz de confusão\n",
    "        matriz_de_confusao_treino = confusion_matrix(Y, y_pred_treino)\n",
    "        print(matriz_de_confusao_treino)\n",
    "\n",
    "        #Printando o relatório de classificação\n",
    "        print(classification_report(Y, y_pred_treino, target_names=['1', '5']))\n",
    "\n",
    "        # Voltando os valores de y_pred_treino para 1 e 5\n",
    "        y_pred_treino[y_pred_treino == -1] = 5\n"
   ]
  }
 ],
 "metadata": {
  "kernelspec": {
   "display_name": "Python 3",
   "language": "python",
   "name": "python3"
  },
  "language_info": {
   "codemirror_mode": {
    "name": "ipython",
    "version": 3
   },
   "file_extension": ".py",
   "mimetype": "text/x-python",
   "name": "python",
   "nbconvert_exporter": "python",
   "pygments_lexer": "ipython3",
   "version": "3.11.4"
  }
 },
 "nbformat": 4,
 "nbformat_minor": 2
}
