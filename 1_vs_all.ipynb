{
 "cells": [
  {
   "cell_type": "code",
   "execution_count": 106,
   "metadata": {},
   "outputs": [
    {
     "data": {
      "text/plain": [
       "<module 'modelos' from 'c:\\\\Users\\\\Bergson\\\\Desktop\\\\UFPB\\\\Quinto Período\\\\Machine Learning\\\\projeto 1\\\\repositorio\\\\Reconhecimento-de-digitos-ML-2023.2\\\\modelos.py'>"
      ]
     },
     "execution_count": 106,
     "metadata": {},
     "output_type": "execute_result"
    }
   ],
   "source": [
    "import pandas as pd\n",
    "import numpy as np\n",
    "import matplotlib.pyplot as plt\n",
    "from sklearn.metrics import confusion_matrix\n",
    "from sklearn.metrics import classification_report\n",
    "\n",
    "import modelos as md\n",
    "from importlib import reload\n",
    "reload(md)"
   ]
  },
  {
   "cell_type": "code",
   "execution_count": 107,
   "metadata": {},
   "outputs": [],
   "source": [
    "dataframe_treino = pd.read_csv('train_redu.csv', sep=';')\n",
    "dataframe_teste = pd.read_csv('test_reduzido.csv', sep=';')"
   ]
  },
  {
   "cell_type": "code",
   "execution_count": 108,
   "metadata": {},
   "outputs": [
    {
     "data": {
      "text/plain": [
       "0       0\n",
       "1       0\n",
       "2       0\n",
       "3       0\n",
       "4       0\n",
       "       ..\n",
       "2181    5\n",
       "2182    5\n",
       "2183    5\n",
       "2184    5\n",
       "2185    5\n",
       "Name: label, Length: 2186, dtype: int64"
      ]
     },
     "execution_count": 108,
     "metadata": {},
     "output_type": "execute_result"
    }
   ],
   "source": [
    "dataframe_treino['label']"
   ]
  },
  {
   "cell_type": "markdown",
   "metadata": {},
   "source": [
    "# Tratamento dos dados"
   ]
  },
  {
   "cell_type": "code",
   "execution_count": 113,
   "metadata": {},
   "outputs": [],
   "source": [
    "# Funçao para transformar os dados em uma normal 0,1\n",
    "def padronizar_normal(matriz_X):\n",
    "    for i in range(np.shape(matriz_X)[1]):\n",
    "        matriz_X[:,i] = (matriz_X[:,i] - np.mean(matriz_X[:,i]))/np.std(matriz_X[:,i]) # X menos media/desvio padrao\n",
    "\n",
    "    return matriz_X\n",
    "\n",
    "# Obtendo os valores de treino e teste\n",
    "X = dataframe_treino[['intensidade', 'simetria']].values.copy()\n",
    "X_teste = dataframe_teste[['intensidade', 'simetria']].values\n",
    "Y = dataframe_treino['label'].values.copy()\n",
    "y_teste = dataframe_teste['label'].values\n",
    "\n",
    "# Transformando os dados e alterando os valores de label para 1 e -1\n",
    "X = padronizar_normal(X)\n",
    "X_teste = padronizar_normal(X_teste)\n",
    "\n",
    "# Adicionando uma coluna de 1s\n",
    "X = np.c_[np.ones(len(X)), X]\n",
    "X_teste = np.c_[np.ones(len(X_teste)), X_teste]"
   ]
  },
  {
   "cell_type": "markdown",
   "metadata": {},
   "source": [
    "# Usando a Regressão Logística"
   ]
  },
  {
   "cell_type": "code",
   "execution_count": 110,
   "metadata": {},
   "outputs": [
    {
     "data": {
      "text/plain": [
       "\"#Criando a matriz de confusão\\nmatriz_de_confusao_treino = confusion_matrix(Y, y_pred_treino)\\nprint(matriz_de_confusao_treino)\\n\\n#Printando o relatório de classificação\\nprint(classification_report(Y, y_pred_treino, target_names=['1', '5']))\\n\\n# Voltando os valores de y_pred_treino para 1 e 5\\ny_pred_treino[y_pred_treino == -1] = 5\""
      ]
     },
     "execution_count": 110,
     "metadata": {},
     "output_type": "execute_result"
    }
   ],
   "source": [
    "def classificador_de_todos_os_digitos_treinamento(df_treino, lista_digitos):\n",
    "    X = np.array(df_treino[['intensidade', 'simetria']].values.copy())\n",
    "    X = padronizar_normal(X)\n",
    "    X = np.c_[np.ones(len(X)), X]\n",
    "    Y = np.array(df_treino['label'].values.copy())\n",
    "    print('Y', Y)\n",
    "    w_matrix = []\n",
    "    y_pred_treino_matrix = []\n",
    "    retas_formadas_treino = []\n",
    "    x = np.linspace(-2, 2, 100)\n",
    "    modelo = md.RegressaoLogistica()\n",
    "    for i in range(len(lista_digitos) - 1):\n",
    "        \n",
    "        Y[Y != lista_digitos[i]] = -1\n",
    "        Y[Y == lista_digitos[i]] = 1\n",
    "        print('Y', Y)\n",
    "        w, acuracia, y_pred_treino = modelo.fit(X.T, Y) # Passo o X.transpose() para que a multiplicação de matrizes seja possível\n",
    "        print('y pred treino da funcao', y_pred_treino)\n",
    "        w_matrix.append(w)\n",
    "        y_pred_treino_matrix.append(y_pred_treino)\n",
    "        retas_formadas_treino.append((-w[0] - w[1]*x) / w[2])\n",
    "        # obtenha o indice dos valores de y_pred_treino que são 1 e retirando os elementos correspondentes em X e Y\n",
    "\n",
    "        indices = np.where(y_pred_treino == 1)[0]\n",
    "        X = np.delete(X, indices, axis=0)\n",
    "        Y = np.delete(Y, indices, axis=0)\n",
    "\n",
    "\n",
    "\n",
    "\n",
    "\n",
    "        #df_treino = df_treino[df_treino['label'] != lista_digitos[i]].copy()\n",
    "        #print('df_treino', df_treino)\n",
    "\n",
    "        #Y = df_treino['label'].values.copy()\n",
    "    \n",
    "    return w_matrix, y_pred_treino_matrix, retas_formadas_treino\n",
    "        \n",
    "\n",
    "\n",
    "'''#Criando a matriz de confusão\n",
    "matriz_de_confusao_treino = confusion_matrix(Y, y_pred_treino)\n",
    "print(matriz_de_confusao_treino)\n",
    "\n",
    "#Printando o relatório de classificação\n",
    "print(classification_report(Y, y_pred_treino, target_names=['1', '5']))\n",
    "\n",
    "# Voltando os valores de y_pred_treino para 1 e 5\n",
    "y_pred_treino[y_pred_treino == -1] = 5'''\n"
   ]
  },
  {
   "cell_type": "code",
   "execution_count": 114,
   "metadata": {},
   "outputs": [
    {
     "name": "stdout",
     "output_type": "stream",
     "text": [
      "Y [0 0 0 ... 5 5 5]\n",
      "Y [ 1  1  1 ... -1 -1 -1]\n",
      "y pred treino da funcao [ 1. -1.  1. ... -1. -1. -1.]\n",
      "Y [ 1  1  1 ... -1 -1 -1]\n",
      "y pred treino da funcao [-1. -1. -1. ... -1. -1. -1.]\n",
      "Y [-1 -1 -1 ... -1 -1 -1]\n",
      "y pred treino da funcao [-1. -1. -1. ... -1. -1. -1.]\n",
      "[ 1. -1.  1. ... -1. -1. -1.]\n",
      "              precision    recall  f1-score   support\n",
      "\n",
      "           1       0.67      0.80      0.73      1578\n",
      "       nao_1       0.00      0.00      0.00       608\n",
      "\n",
      "    accuracy                           0.58      2186\n",
      "   macro avg       0.34      0.40      0.37      2186\n",
      "weighted avg       0.49      0.58      0.53      2186\n",
      "\n"
     ]
    },
    {
     "data": {
      "image/png": "[encoded data removed]",
      "text/plain": [
       "<Figure size 640x480 with 1 Axes>"
      ]
     },
     "metadata": {},
     "output_type": "display_data"
    }
   ],
   "source": [
    "digitos = [0,1,4,5]\n",
    "Y[Y != 1] = -1\n",
    "x = np.linspace(-2, 2, 100)\n",
    "w_matrix, y_pred_treino_matrix, retas_formadas_treino = classificador_de_todos_os_digitos_treinamento(dataframe_treino, digitos)\n",
    "print(y_pred_treino_matrix[0])\n",
    "print(classification_report(Y, y_pred_treino_matrix[0], target_names=['1','nao_1']))\n",
    "plt.scatter(X[y_pred_treino_matrix[0] == 1, 1], X[y_pred_treino_matrix[0] == 1, 2], color='blue', marker='o', label='1')\n",
    "plt.scatter(X[y_pred_treino_matrix[0] == -1, 1], X[y_pred_treino_matrix[0] == -1, 2], color='red', marker='o', label='5')\n",
    "plt.plot(x, retas_formadas_treino[0], label='Regressão Logística')\n",
    "plt.xlabel('Intensidade')\n",
    "plt.ylabel('Simetria')\n",
    "plt.title('Intensidade x Simetria')\n",
    "plt.legend()\n",
    "plt.show()"
   ]
  },
  {
   "cell_type": "code",
   "execution_count": 112,
   "metadata": {},
   "outputs": [
    {
     "data": {
      "text/plain": [
       "0       0\n",
       "1       0\n",
       "2       0\n",
       "3       0\n",
       "4       0\n",
       "       ..\n",
       "2181    5\n",
       "2182    5\n",
       "2183    5\n",
       "2184    5\n",
       "2185    5\n",
       "Name: label, Length: 2186, dtype: int64"
      ]
     },
     "execution_count": 112,
     "metadata": {},
     "output_type": "execute_result"
    }
   ],
   "source": [
    "dataframe_treino['label']"
   ]
  }
 ],
 "metadata": {
  "kernelspec": {
   "display_name": "Python 3",
   "language": "python",
   "name": "python3"
  },
  "language_info": {
   "codemirror_mode": {
    "name": "ipython",
    "version": 3
   },
   "file_extension": ".py",
   "mimetype": "text/x-python",
   "name": "python",
   "nbconvert_exporter": "python",
   "pygments_lexer": "ipython3",
   "version": "3.11.4"
  }
 },
 "nbformat": 4,
 "nbformat_minor": 2
}
