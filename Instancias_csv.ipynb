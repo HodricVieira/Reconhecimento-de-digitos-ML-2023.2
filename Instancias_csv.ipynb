{
 "cells": [
  {
   "cell_type": "markdown",
   "metadata": {},
   "source": [
    "# Arquivo csv do treino"
   ]
  },
  {
   "cell_type": "code",
   "execution_count": 1,
   "metadata": {},
   "outputs": [],
   "source": [
    "import numpy as np\n",
    "import pandas as pd\n",
    "\n",
    "file_path = \"arquivos_csv/train.csv\"\n",
    "dataframe = pd.read_csv(file_path, sep=';')\n"
   ]
  },
  {
   "cell_type": "code",
   "execution_count": 2,
   "metadata": {},
   "outputs": [],
   "source": [
    "df_out_label = dataframe.drop(columns=\"label\")\n",
    "matriz_pixel = df_out_label.to_numpy()"
   ]
  },
  {
   "cell_type": "code",
   "execution_count": 3,
   "metadata": {},
   "outputs": [],
   "source": [
    "matriz_pixel_quad = []\n",
    "for vetor in matriz_pixel:\n",
    "    matriz_quad = vetor.reshape((28,28))\n",
    "    matriz_pixel_quad.append(matriz_quad)\n"
   ]
  },
  {
   "cell_type": "code",
   "execution_count": 4,
   "metadata": {},
   "outputs": [],
   "source": [
    "# media\n",
    "medias = []\n",
    "for i in range(len(matriz_pixel)):\n",
    "    soma = sum(matriz_pixel[i])\n",
    "    media_pixel = soma/255\n",
    "    medias.append(media_pixel)\n",
    "mediasdf = pd.DataFrame({'intensidade': medias})\n"
   ]
  },
  {
   "cell_type": "code",
   "execution_count": 5,
   "metadata": {},
   "outputs": [],
   "source": [
    "#simetria\n",
    "lista_simetria = []\n",
    "for vetor in matriz_pixel_quad:\n",
    "    somav = 0\n",
    "    somah = 0\n",
    "    for i in range(28):\n",
    "        for j in range(14):\n",
    "            somav = somav + abs(vetor[i][j] - vetor[i][27-j])\n",
    "    simetria_v = somav/255\n",
    "\n",
    "    for j in range(28):\n",
    "        for i in range(14):\n",
    "            somah = somah + abs(vetor[i][j] - vetor[27-i][j])\n",
    "    simetria_h = somah/255\n",
    "\n",
    "    simetria = simetria_v + simetria_h\n",
    "\n",
    "    lista_simetria.append(simetria)\n",
    "lista_simetriadf = pd.DataFrame({'simetria': lista_simetria})\n"
   ]
  },
  {
   "cell_type": "code",
   "execution_count": 6,
   "metadata": {},
   "outputs": [],
   "source": [
    "vetorP = pd.concat([dataframe[\"label\"], mediasdf, lista_simetriadf], axis=1)\n",
    "vetorP.to_csv('arquivos_csv/train_redu.csv', index=False, sep=';')\n"
   ]
  },
  {
   "cell_type": "code",
   "execution_count": 7,
   "metadata": {},
   "outputs": [],
   "source": [
    "dataframe_treino_1_5 = vetorP[(vetorP['label'] == 1) | (vetorP['label'] == 5)]\n",
    "dataframe_treino_1_5.to_csv('arquivos_csv/train_reduzido_1_5.csv', index=False, sep=';')"
   ]
  },
  {
   "cell_type": "markdown",
   "metadata": {},
   "source": [
    "# Arquivo csv do teste"
   ]
  },
  {
   "cell_type": "code",
   "execution_count": 8,
   "metadata": {},
   "outputs": [],
   "source": [
    "file_path = \"arquivos_csv/test.csv\"\n",
    "dataframe = pd.read_csv(file_path, sep=';')\n"
   ]
  },
  {
   "cell_type": "code",
   "execution_count": 9,
   "metadata": {},
   "outputs": [],
   "source": [
    "df_out_label = dataframe.drop(columns=\"label\")\n",
    "matriz_pixel = df_out_label.to_numpy()\n",
    "matriz_pixel_quad = []\n",
    "for vetor in matriz_pixel:\n",
    "    matriz_quad = vetor.reshape((28,28))\n",
    "    matriz_pixel_quad.append(matriz_quad)\n"
   ]
  },
  {
   "cell_type": "code",
   "execution_count": 10,
   "metadata": {},
   "outputs": [],
   "source": [
    "# Calculando a intensidade no teste\n",
    "medias = []\n",
    "for i in range(len(matriz_pixel)):\n",
    "    soma = sum(matriz_pixel[i])\n",
    "    media_pixel = soma/255\n",
    "    medias.append(media_pixel)\n",
    "#print(medias)\n",
    "mediasdf = pd.DataFrame({'intensidade': medias})"
   ]
  },
  {
   "cell_type": "code",
   "execution_count": 11,
   "metadata": {},
   "outputs": [],
   "source": [
    "# Calculando a simetria no teste\n",
    "lista_simetria = []\n",
    "for vetor in matriz_pixel_quad:\n",
    "    somav = 0\n",
    "    somah = 0\n",
    "    for i in range(28):\n",
    "        for j in range(14):\n",
    "            somav += abs(vetor[i][j] - vetor[i][27-j])\n",
    "            somah += abs(vetor[j][i] - vetor[27-j][i])\n",
    "    simetria_v = somav/255\n",
    "    simetria_h = somah/255\n",
    "    simetria = simetria_v + simetria_h\n",
    "\n",
    "    lista_simetria.append(simetria)\n",
    "lista_simetriadf = pd.DataFrame({'simetria': lista_simetria})"
   ]
  },
  {
   "cell_type": "code",
   "execution_count": 12,
   "metadata": {},
   "outputs": [],
   "source": [
    "df_teste_reduzido = pd.concat([dataframe[\"label\"], mediasdf, lista_simetriadf], axis=1)\n",
    "df_teste_reduzido.to_csv(\"arquivos_csv/test_reduzido.csv\", index=False, sep=';')\n",
    "dataframe_teste_1_5 = df_teste_reduzido[(df_teste_reduzido['label'] == 1) | (df_teste_reduzido['label'] == 5)]\n",
    "dataframe_teste_1_5.to_csv(\"arquivos_csv/test_reduzido_1_5.csv\", index=False, sep=';')"
   ]
  }
 ],
 "metadata": {
  "kernelspec": {
   "display_name": "Python 3",
   "language": "python",
   "name": "python3"
  },
  "language_info": {
   "codemirror_mode": {
    "name": "ipython",
    "version": 3
   },
   "file_extension": ".py",
   "mimetype": "text/x-python",
   "name": "python",
   "nbconvert_exporter": "python",
   "pygments_lexer": "ipython3",
   "version": "3.11.2"
  }
 },
 "nbformat": 4,
 "nbformat_minor": 2
}
